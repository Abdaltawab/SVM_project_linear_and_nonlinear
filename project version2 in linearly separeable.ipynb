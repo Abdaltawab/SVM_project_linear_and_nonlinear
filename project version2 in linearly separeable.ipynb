{
 "cells": [
  {
   "cell_type": "code",
   "execution_count": 160,
   "id": "dd1ff1a7",
   "metadata": {},
   "outputs": [],
   "source": [
    "import pandas as pd\n",
    "import numpy as np\n",
    "import matplotlib.pyplot as plt\n",
    "from collections import Counter\n",
    "from sklearn import preprocessing\n",
    "from sklearn import metrics\n",
    "from sklearn.metrics import accuracy_score\n",
    "from sklearn.model_selection import cross_val_score\n",
    "from sklearn.model_selection import GridSearchCV\n",
    "from sklearn.svm import SVC\n",
    "from scipy.io import loadmat\n",
    "#Importing with custom names to avoid issues with numpy / sympy matrix\n",
    "\n",
    "\n",
    "from cvxopt import matrix as cvxopt_matrix\n",
    "from cvxopt import solvers as cvxopt_solvers\n",
    "from sklearn.model_selection import train_test_split\n",
    "\n"
   ]
  },
  {
   "cell_type": "code",
   "execution_count": 161,
   "id": "267aa8a0",
   "metadata": {},
   "outputs": [],
   "source": [
    "data=loadmat(\"ex.mat\")"
   ]
  },
  {
   "cell_type": "code",
   "execution_count": 162,
   "id": "123c696b",
   "metadata": {},
   "outputs": [],
   "source": [
    "y=data['y']\n",
    "X=data['X']"
   ]
  },
  {
   "cell_type": "code",
   "execution_count": 163,
   "id": "60e7ce2f",
   "metadata": {},
   "outputs": [
    {
     "name": "stdout",
     "output_type": "stream",
     "text": [
      "(51, 2)\n",
      "(51, 1)\n"
     ]
    }
   ],
   "source": [
    "#print(x)\n",
    "#print(y)\n",
    "print(X.shape)\n",
    "print(y.shape)"
   ]
  },
  {
   "cell_type": "code",
   "execution_count": 164,
   "id": "d4b83ba3",
   "metadata": {},
   "outputs": [],
   "source": [
    "# split X and y into training and testing sets\n",
    "\n",
    "from sklearn.model_selection import train_test_split\n",
    "\n",
    "X_train, X_test, y_train, y_test = train_test_split(X, y, test_size = 0.2, random_state = 0)"
   ]
  },
  {
   "cell_type": "code",
   "execution_count": 165,
   "id": "5b01f546",
   "metadata": {},
   "outputs": [
    {
     "data": {
      "text/plain": [
       "((40, 2), (11, 2))"
      ]
     },
     "execution_count": 165,
     "metadata": {},
     "output_type": "execute_result"
    }
   ],
   "source": [
    "# check the shape of X_train and X_test\n",
    "\n",
    "X_train.shape, X_test.shape"
   ]
  },
  {
   "cell_type": "code",
   "execution_count": 166,
   "id": "f91f43f6",
   "metadata": {},
   "outputs": [
    {
     "name": "stdout",
     "output_type": "stream",
     "text": [
      "[[1.25     3.1937  ]\n",
      " [2.4827   2.0373  ]\n",
      " [1.6878   2.4057  ]\n",
      " [1.5495   2.6923  ]\n",
      " [3.9113   4.1761  ]\n",
      " [2.6555   3.5008  ]\n",
      " [2.091    1.6177  ]\n",
      " [3.6002   3.1221  ]\n",
      " [0.9044   3.0198  ]\n",
      " [1.3191   3.5109  ]\n",
      " [3.1855   4.2888  ]\n",
      " [1.2269   2.3239  ]\n",
      " [2.0103   2.3546  ]\n",
      " [3.6579   3.8692  ]\n",
      " [2.2292   2.201   ]\n",
      " [1.5841   3.3575  ]\n",
      " [0.086405 4.1045  ]\n",
      " [2.7822   4.0431  ]\n",
      " [2.2638   4.3706  ]\n",
      " [2.8283   2.6309  ]\n",
      " [4.015    3.1937  ]\n",
      " [3.9113   3.4291  ]\n",
      " [0.962    2.682   ]\n",
      " [0.9735   3.3881  ]\n",
      " [2.2753   3.8589  ]\n",
      " [1.9182   4.0534  ]\n",
      " [1.1693   2.9276  ]\n",
      " [2.3099   2.9584  ]\n",
      " [3.3814   3.4291  ]\n",
      " [2.2753   2.7127  ]\n",
      " [1.4919   2.0271  ]\n",
      " [2.0103   3.2039  ]\n",
      " [3.0357   3.3165  ]\n",
      " [2.5518   4.6162  ]\n",
      " [0.8122   2.9992  ]\n",
      " [0.76615  2.5899  ]\n",
      " [2.932    3.5519  ]\n",
      " [1.9643   4.5957  ]\n",
      " [2.5403   2.8867  ]\n",
      " [2.4482   2.6411  ]]\n",
      "(40, 2)\n"
     ]
    }
   ],
   "source": [
    "print(X_train)\n",
    "print(X_train.shape)"
   ]
  },
  {
   "cell_type": "code",
   "execution_count": 167,
   "id": "29b8909b",
   "metadata": {},
   "outputs": [],
   "source": [
    "from sklearn.preprocessing import StandardScaler\n",
    "\n",
    "scaler = StandardScaler()\n",
    "\n",
    "X_train = scaler.fit_transform(X_train)\n",
    "\n",
    "X_test = scaler.transform(X_test)"
   ]
  },
  {
   "cell_type": "code",
   "execution_count": 168,
   "id": "72bab1fa",
   "metadata": {},
   "outputs": [
    {
     "data": {
      "text/plain": [
       "SVC(C=10, gamma='auto', kernel='linear')"
      ]
     },
     "execution_count": 168,
     "metadata": {},
     "output_type": "execute_result"
    }
   ],
   "source": [
    "\n",
    "model=SVC(C=10,kernel=\"linear\",gamma=\"auto\")\n",
    "model.fit(X_train,y_train.ravel())"
   ]
  },
  {
   "cell_type": "code",
   "execution_count": 169,
   "id": "ad1447b4",
   "metadata": {},
   "outputs": [],
   "source": [
    "y_pred=model.predict(X_test)"
   ]
  },
  {
   "cell_type": "code",
   "execution_count": 170,
   "id": "b8135189",
   "metadata": {},
   "outputs": [
    {
     "data": {
      "text/plain": [
       "(11,)"
      ]
     },
     "execution_count": 170,
     "metadata": {},
     "output_type": "execute_result"
    }
   ],
   "source": [
    "y_pred.shape"
   ]
  },
  {
   "cell_type": "code",
   "execution_count": 171,
   "id": "fe71bca0",
   "metadata": {},
   "outputs": [
    {
     "data": {
      "text/plain": [
       "(11, 1)"
      ]
     },
     "execution_count": 171,
     "metadata": {},
     "output_type": "execute_result"
    }
   ],
   "source": [
    "y_test.shape\n"
   ]
  },
  {
   "cell_type": "code",
   "execution_count": 172,
   "id": "70793f92",
   "metadata": {},
   "outputs": [],
   "source": [
    "from sklearn.metrics import confusion_matrix\n",
    "cm=confusion_matrix(y_test,y_pred)"
   ]
  },
  {
   "cell_type": "code",
   "execution_count": 173,
   "id": "14d3f635",
   "metadata": {},
   "outputs": [
    {
     "data": {
      "text/plain": [
       "array([[7, 0],\n",
       "       [2, 2]], dtype=int64)"
      ]
     },
     "execution_count": 173,
     "metadata": {},
     "output_type": "execute_result"
    }
   ],
   "source": [
    "cm"
   ]
  },
  {
   "cell_type": "markdown",
   "id": "52f33d6b",
   "metadata": {},
   "source": [
    "# Building the Hard Margin SVM"
   ]
  },
  {
   "cell_type": "markdown",
   "id": "7b0997e6",
   "metadata": {},
   "source": [
    "# plot to X_train"
   ]
  },
  {
   "cell_type": "code",
   "execution_count": 174,
   "id": "fc983bea",
   "metadata": {},
   "outputs": [
    {
     "data": {
      "image/png": "[encoded data removed]",
      "text/plain": [
       "<Figure size 640x480 with 1 Axes>"
      ]
     },
     "metadata": {},
     "output_type": "display_data"
    }
   ],
   "source": [
    " #creating our scatter plot \n",
    "for i in range(len(X_train)):\n",
    "    if y[i]==0:\n",
    "        plt.scatter(X_train[i][0],X_train[i][1],s=50,c='r')\n",
    "    else:\n",
    "         plt.scatter(X_train[i][0],X_train[i][1],s=50,c='b')\n",
    "            \n",
    "            \n",
    "ax=plt.gca()\n",
    "xlim=ax.get_xlim()\n",
    "ylim=ax.get_ylim()\n",
    "\n",
    "#creat grid to evalute model \n",
    "xx=np.linspace(xlim[0],xlim[1],30) \n",
    "yy=np.linspace(ylim[0],ylim[1],30) \n",
    "yy,xx=np.meshgrid(yy,xx)\n",
    "xy=np.vstack([xx.ravel(),yy.ravel()]).T\n",
    "z=model.decision_function(xy).reshape(xx.shape)\n",
    "\n",
    "\n",
    "##plot decision boundary and margins\n",
    "\n",
    "ax.contour(xx,yy,z,colors=\"k\",levels=[-1,0,1],alpha=0.5,linestyles=[\"--\",\"-\",\"--\"])\n",
    "\n",
    "##plot support vectors\n",
    "ax.scatter(\n",
    "    model.support_vectors_[:,0],\n",
    "    model.support_vectors_[:,1],\n",
    "    s=100,\n",
    "    linewidth=2,\n",
    "    facecolors=\"none\",\n",
    "    edgecolors=\"black\",)\n",
    "plt.title('SVM(training set)')\n",
    "\n",
    "plt.show()\n"
   ]
  },
  {
   "cell_type": "markdown",
   "id": "e23a5125",
   "metadata": {},
   "source": [
    "# plot x_test"
   ]
  },
  {
   "cell_type": "code",
   "execution_count": 175,
   "id": "95ecfb01",
   "metadata": {},
   "outputs": [
    {
     "data": {
      "image/png": "[encoded data removed]",
      "text/plain": [
       "<Figure size 640x480 with 1 Axes>"
      ]
     },
     "metadata": {},
     "output_type": "display_data"
    }
   ],
   "source": [
    " #creating our scatter plot \n",
    "for i in range(len(X_test)):\n",
    "    if y[i]==1:\n",
    "        plt.scatter(X_test[i][0],X_test[i][1],s=50,c='r')\n",
    "    else:\n",
    "         plt.scatter(X_test[i][0],X_test[i][1],s=50,c='b')\n",
    "            \n",
    "            \n",
    "ax=plt.gca()\n",
    "xlim=ax.get_xlim()\n",
    "ylim=ax.get_ylim()\n",
    "\n",
    "#creat grid to evalute model \n",
    "xx=np.linspace(xlim[0],xlim[1],30) \n",
    "yy=np.linspace(ylim[0],ylim[1],30) \n",
    "yy,xx=np.meshgrid(yy,xx)\n",
    "xy=np.vstack([xx.ravel(),yy.ravel()]).T\n",
    "z=model.decision_function(xy).reshape(xx.shape)\n",
    "\n",
    "\n",
    "##plot decision boundary and margins\n",
    "\n",
    "ax.contour(xx,yy,z,colors=\"k\",levels=[-1,0,1],alpha=0.5,linestyles=[\"--\",\"-\",\"--\"])\n",
    "\n",
    "##plot support vectors\n",
    "ax.scatter(\n",
    "    model.support_vectors_[:,0],\n",
    "    model.support_vectors_[:,1],\n",
    "    s=100,\n",
    "    linewidth=2,\n",
    "    facecolors=\"none\",\n",
    "    edgecolors=\"black\",)\n",
    "plt.title('SVM(testing set)')\n",
    "\n",
    "plt.show()\n"
   ]
  },
  {
   "cell_type": "code",
   "execution_count": 176,
   "id": "040cad0d",
   "metadata": {},
   "outputs": [
    {
     "name": "stdout",
     "output_type": "stream",
     "text": [
      "number of bounded: 2 \n",
      "Number of free :  2\n"
     ]
    }
   ],
   "source": [
    "#to find the distance for all our points in x_train to our decition boudary\n",
    "dists=model.decision_function(X_train)\n",
    "\n",
    "# then find the absolte distance and round it down to 3 decimals\n",
    "absdists=np.abs(dists)\n",
    "absdists=[round(i,3)for i in absdists]\n",
    "\n",
    "#count the number of free and bounded support vectors\n",
    "\n",
    "Bounded=sum(i<1 for i in absdists )\n",
    "Free=sum(i==1 for i in absdists)\n",
    "\n",
    "print (\"number of bounded:\",Bounded,\"\\nNumber of free : \",Free)\n"
   ]
  },
  {
   "cell_type": "markdown",
   "id": "7293385a",
   "metadata": {},
   "source": [
    "# culc alpha and W,b in hard margin"
   ]
  },
  {
   "cell_type": "code",
   "execution_count": 177,
   "id": "079e2b74",
   "metadata": {},
   "outputs": [],
   "source": [
    "#Initializing values and computing H. Note the 1. to force to float type\n",
    "m,n = x.shape\n",
    "y = y.reshape(-1,1) * 1.\n",
    "X_dash = y * x\n",
    "H = np.dot(X_dash , X_dash.T) * 1.\n",
    "\n"
   ]
  },
  {
   "cell_type": "code",
   "execution_count": 178,
   "id": "4213e4fd",
   "metadata": {},
   "outputs": [],
   "source": [
    "#Converting into cvxopt format\n",
    "P = cvxopt_matrix(H)\n",
    "q = cvxopt_matrix(-np.ones((m, 1)))\n",
    "G = cvxopt_matrix(np.vstack((np.eye(m)*-1,np.eye(m))))\n",
    "h = cvxopt_matrix(np.hstack((np.zeros(m), np.ones(m) )))\n",
    "A = cvxopt_matrix(y.reshape(1, -1))\n",
    "b = cvxopt_matrix(np.zeros(1))"
   ]
  },
  {
   "cell_type": "code",
   "execution_count": 179,
   "id": "dee086b2",
   "metadata": {},
   "outputs": [],
   "source": [
    "#Setting solver parameters (change default to decrease tolerance) \n",
    "cvxopt_solvers.options['show_progress'] = False\n",
    "cvxopt_solvers.options['abstol'] = 1e-10\n",
    "cvxopt_solvers.options['reltol'] = 1e-10\n",
    "cvxopt_solvers.options['feastol'] = 1e-10"
   ]
  },
  {
   "cell_type": "code",
   "execution_count": 180,
   "id": "bb5e1f75",
   "metadata": {},
   "outputs": [],
   "source": [
    "#Run solver\n",
    "sol = cvxopt_solvers.qp(P, q, G, h, A, b)\n",
    "alphas = np.array(sol['x'])\n"
   ]
  },
  {
   "cell_type": "code",
   "execution_count": 181,
   "id": "bfdb2d0c",
   "metadata": {},
   "outputs": [
    {
     "name": "stdout",
     "output_type": "stream",
     "text": [
      "Alphas =  [1. 1. 1. 1. 1. 1. 1. 1. 1. 1. 1. 1. 1. 1. 1. 1. 1. 1. 1. 1. 1. 1. 1. 1.\n",
      " 1. 1. 1. 1. 1. 1.]\n",
      "w =  [ 6.13377760e-27 -1.02339798e-28]\n",
      "b =  [-9.37291122e-27]\n"
     ]
    }
   ],
   "source": [
    "#w parameter in vectorized form\n",
    "w = ((y * alphas).T @ x).reshape(-1,1)\n",
    "\n",
    "#Selecting the set of indices S corresponding to non zero parameters\n",
    "S = (alphas > 1e-4).flatten()\n",
    "\n",
    "#Computing b\n",
    "b = y[S] - np.dot(x[S], w)\n",
    "\n",
    "#Display results\n",
    "print('Alphas = ',alphas[alphas > 1e-4])\n",
    "print('w = ', w.flatten())\n",
    "print('b = ', b[0])"
   ]
  },
  {
   "cell_type": "markdown",
   "id": "76d9c4d3",
   "metadata": {},
   "source": [
    "# build a Soft Margin SVM"
   ]
  },
  {
   "cell_type": "code",
   "execution_count": 182,
   "id": "04182462",
   "metadata": {},
   "outputs": [
    {
     "name": "stdout",
     "output_type": "stream",
     "text": [
      "{'C': 0.1, 'gamma': 'auto'}\n",
      "0.975\n"
     ]
    }
   ],
   "source": [
    "#it is alogarithmeic scale\n",
    "params_dict={\"C\":[0.001,0.01,0.1,1,10,100],\"gamma\":['auto']}\n",
    "model=SVC(kernel=\"linear\")\n",
    "\n",
    "#use grid-seach to find the best pair of estimators on our trinaing data\n",
    "#use 5-fold cross valisation in the grid search\n",
    "search=GridSearchCV(estimator=model,param_grid=params_dict,cv=5)\n",
    "search.fit(X_train,y_train.ravel())\n",
    "\n",
    "#need the best pair of valus for c and gamme to use on our training data\n",
    "best_svm=search.best_estimator_\n",
    "best_svm.fit(X_train,y_train.ravel())\n",
    "\n",
    "print(search.best_params_)\n",
    "print(search.best_score_)\n",
    "\n"
   ]
  },
  {
   "cell_type": "code",
   "execution_count": 183,
   "id": "448c5af0",
   "metadata": {},
   "outputs": [
    {
     "data": {
      "image/png": "[encoded data removed]",
      "text/plain": [
       "<Figure size 640x480 with 1 Axes>"
      ]
     },
     "metadata": {},
     "output_type": "display_data"
    }
   ],
   "source": [
    "#creating our scatter plot \n",
    "for i in range(len(X_train)):\n",
    "    if y[i]==0:\n",
    "        plt.scatter(X_train[i][0],X_train[i][1],s=50,c='r')\n",
    "    else:\n",
    "         plt.scatter(X_train[i][0],X_train[i][1],s=50,c='b')\n",
    "            \n",
    "            \n",
    "ax=plt.gca()\n",
    "xlim=ax.get_xlim()\n",
    "ylim=ax.get_ylim()\n",
    "\n",
    "#creat grid to evalute model \n",
    "xx=np.linspace(xlim[0],xlim[1],30) \n",
    "yy=np.linspace(ylim[0],ylim[1],30) \n",
    "yy,xx=np.meshgrid(yy,xx)\n",
    "xy=np.vstack([xx.ravel(),yy.ravel()]).T\n",
    "z=best_svm.decision_function(xy).reshape(xx.shape)\n",
    "\n",
    "\n",
    "##plot decision boundary and margins\n",
    "\n",
    "ax.contour(xx,yy,z,colors=\"k\",levels=[-1,0,1],alpha=0.5,linestyles=[\"--\",\"-\",\"--\"])\n",
    "\n",
    "##plot support vectors\n",
    "ax.scatter(\n",
    "    best_svm.support_vectors_[:,0],\n",
    "    best_svm.support_vectors_[:,1],\n",
    "    s=100,\n",
    "    linewidth=2,\n",
    "    facecolors=\"none\",\n",
    "    edgecolors=\"black\",)\n",
    "\n",
    "plt.show()\n"
   ]
  },
  {
   "cell_type": "code",
   "execution_count": 184,
   "id": "f802d70e",
   "metadata": {},
   "outputs": [
    {
     "name": "stdout",
     "output_type": "stream",
     "text": [
      "number of bounded: 18 \n",
      "Number of free :  2\n"
     ]
    }
   ],
   "source": [
    "#to find the distance for all our points in x_train to our decition boudary\n",
    "dists=best_svm.decision_function(X_train)\n",
    "\n",
    "# then find the absolte distance and round it down to 3 decimals\n",
    "absdists=np.abs(dists)\n",
    "absdists=[round(i,3)for i in absdists]\n",
    "\n",
    "#count the number of free and bounded support vectors\n",
    "\n",
    "Bounded=sum(i<1 for i in absdists )\n",
    "Free=sum(i==1 for i in absdists)\n",
    "\n",
    "print (\"number of bounded:\",Bounded,\"\\nNumber of free : \",Free)\n"
   ]
  },
  {
   "cell_type": "markdown",
   "id": "7294f870",
   "metadata": {},
   "source": [
    "# caclute alphas,w and b in soft margin"
   ]
  },
  {
   "cell_type": "code",
   "execution_count": 185,
   "id": "26b697b5",
   "metadata": {},
   "outputs": [],
   "source": [
    "#Initializing values and computing H. Note the 1. to force to float type\n",
    "C = 20\n",
    "m,n = x.shape\n",
    "y = y.reshape(-1,1) * 1.\n",
    "X_dash = y * x\n",
    "H = np.dot(X_dash , X_dash.T) * 1.\n",
    "\n",
    "#Converting into cvxopt format - as previously\n",
    "P = cvxopt_matrix(H)\n",
    "q = cvxopt_matrix(-np.ones((m, 1)))\n",
    "G = cvxopt_matrix(np.vstack((np.eye(m)*-1,np.eye(m))))\n",
    "h = cvxopt_matrix(np.hstack((np.zeros(m), np.ones(m) * C)))\n",
    "A = cvxopt_matrix(y.reshape(1, -1))\n",
    "b = cvxopt_matrix(np.zeros(1))\n",
    "\n",
    "#Run solver\n",
    "sol = cvxopt_solvers.qp(P, q, G, h, A, b)\n",
    "alphas = np.array(sol['x'])\n",
    "\n"
   ]
  },
  {
   "cell_type": "code",
   "execution_count": 186,
   "id": "212b6204",
   "metadata": {},
   "outputs": [
    {
     "name": "stdout",
     "output_type": "stream",
     "text": [
      "Alphas =  [20. 20. 20. 20. 20. 20. 20. 20. 20. 20. 20. 20. 20. 20. 20. 20. 20. 20.\n",
      " 20. 20. 20. 20. 20. 20. 20. 20. 20. 20. 20. 20.]\n",
      "w =  [ 3.48823117e-26 -1.42732140e-26]\n",
      "b =  [-7.33475379e-27]\n"
     ]
    }
   ],
   "source": [
    "#==================Computing and printing parameters===============================#\n",
    "w = ((y * alphas).T @ x).reshape(-1,1)\n",
    "S = (alphas > 1e-4).flatten()\n",
    "b = y[S] - np.dot(x[S], w)\n",
    "\n",
    "#Display results\n",
    "print('Alphas = ',alphas[alphas > 1e-4])\n",
    "print('w = ', w.flatten())\n",
    "print('b = ', b[0])\n"
   ]
  },
  {
   "cell_type": "code",
   "execution_count": null,
   "id": "3711366f",
   "metadata": {},
   "outputs": [],
   "source": []
  }
 ],
 "metadata": {
  "kernelspec": {
   "display_name": "Python 3 (ipykernel)",
   "language": "python",
   "name": "python3"
  },
  "language_info": {
   "codemirror_mode": {
    "name": "ipython",
    "version": 3
   },
   "file_extension": ".py",
   "mimetype": "text/x-python",
   "name": "python",
   "nbconvert_exporter": "python",
   "pygments_lexer": "ipython3",
   "version": "3.9.13"
  }
 },
 "nbformat": 4,
 "nbformat_minor": 5
}
